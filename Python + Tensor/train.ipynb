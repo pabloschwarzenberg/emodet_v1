{
 "cells": [
  {
   "cell_type": "markdown",
   "metadata": {},
   "source": [
    "##  Importa las distintas librerias"
   ]
  },
  {
   "cell_type": "code",
   "execution_count": null,
   "metadata": {},
   "outputs": [],
   "source": [
    "import sys\n",
    "import os\n",
    "from keras.preprocessing.image import ImageDataGenerator\n",
    "from keras import optimizers\n",
    "from keras.models import Sequential\n",
    "from keras.layers import Dropout, Flatten, Dense, Activation\n",
    "from keras.layers import Convolution2D, MaxPooling2D\n",
    "from keras import backend as K"
   ]
  },
  {
   "cell_type": "markdown",
   "metadata": {},
   "source": [
    "## Limpia toda la informacion de Keras"
   ]
  },
  {
   "cell_type": "code",
   "execution_count": null,
   "metadata": {},
   "outputs": [],
   "source": [
    "K.clear_session()"
   ]
  },
  {
   "cell_type": "markdown",
   "metadata": {},
   "source": [
    "## Importar imagenes"
   ]
  },
  {
   "cell_type": "code",
   "execution_count": null,
   "metadata": {},
   "outputs": [],
   "source": [
    "images_entrenamiento = './caras/entrenamiento'\n",
    "images_validacion = './caras/validacion'"
   ]
  },
  {
   "cell_type": "markdown",
   "metadata": {},
   "source": [
    "## Ingreso parametros\n",
    "### Modificables en el tiempo\n",
    "\n",
    "##### valor lr es altamente modificable \n",
    "##### filtros agregar mas?\n",
    "##### hacer vs segun capas?"
   ]
  },
  {
   "cell_type": "code",
   "execution_count": null,
   "metadata": {},
   "outputs": [],
   "source": [
    "epocas = 20\n",
    "longitud = 150\n",
    "altura = 150\n",
    "batch_size = 50\n",
    "steps_per_epoch = 1000\n",
    "validation_steps = 300\n",
    "filterConv1 = 64\n",
    "filterConv2 = 32\n",
    "size_filter1 = (3, 3)\n",
    "size_filter2 = (2, 2)\n",
    "size_pool = (2, 2)\n",
    "class_model = 8\n",
    "lr = 0.0001"
   ]
  },
  {
   "cell_type": "markdown",
   "metadata": {},
   "source": [
    "## Preparacion de las imagenes para ser procesadas"
   ]
  },
  {
   "cell_type": "code",
   "execution_count": null,
   "metadata": {},
   "outputs": [],
   "source": [
    "entrenamiento_data_generador = ImageDataGenerator(\n",
    "    rescale = 1. / 255,\n",
    "    shear_range = 0.2,\n",
    "    zoom_range = 0.2,\n",
    "    horizontal_flip = True\n",
    ")\n",
    "\n",
    "test_data_generador = ImageDataGenerator(\n",
    "    rescale = 1. / 255\n",
    ")\n",
    "\n",
    "entrenamiento_generador = entrenamiento_data_generador.flow_from_directory(\n",
    "    images_entrenamiento,\n",
    "    target_size = (altura, longitud),\n",
    "    batch_size = batch_size\n",
    ")\n",
    "\n",
    "validacion_generador = test_data_generador.flow_from_directory(\n",
    "    images_validacion,\n",
    "    target_size = (altura, longitud),\n",
    "    batch_size = batch_size,\n",
    "    class_mode = 'categorical'\n",
    ")"
   ]
  },
  {
   "cell_type": "markdown",
   "metadata": {},
   "source": [
    "## Comienza modelo\n",
    "\n",
    "#### Modelo puede sufrir cambios, los cuales pueden ser principalmente valor de filtro que se cambia en declaracion de variables"
   ]
  },
  {
   "cell_type": "code",
   "execution_count": null,
   "metadata": {},
   "outputs": [],
   "source": [
    "cnn = Sequential()\n",
    "\n",
    "cnn.add(Convolution2D(\n",
    "    filterConv1,\n",
    "    size_filter1,\n",
    "    padding = \"same\",\n",
    "    input_shape = (longitud, altura, 3),\n",
    "    activation = 'relu'\n",
    "))\n",
    "cnn.add(MaxPooling2D(\n",
    "    pool_size = size_pool\n",
    "))\n",
    "\n",
    "cnn.add(Convolution2D(\n",
    "    filterConv2,\n",
    "    size_filter2,\n",
    "    padding = \"same\"\n",
    "))\n",
    "cnn.add(MaxPooling2D(\n",
    "    pool_size = size_pool\n",
    "))\n",
    "\n",
    "cnn.add(Flatten())\n",
    "\n",
    "cnn.add(Dense(\n",
    "    256,\n",
    "    activation = \"relu\"\n",
    "))\n",
    "\n",
    "cnn.add(Dropout(\n",
    "    0.5\n",
    "))\n",
    "\n",
    "cnn.add(Dense(\n",
    "    class_model,\n",
    "    activation = \"softmax\"\n",
    "))\n",
    "\n",
    "cnn.compile(\n",
    "    loss = \"categorical_crossentropy\",\n",
    "    optimizer = optimizers.Adam(lr = lr),\n",
    "    metrics = ['accuracy']\n",
    ")\n",
    "\n",
    "cnn.fit_generator(\n",
    "    entrenamiento_generador,\n",
    "    steps_per_epoch = steps_per_epoch,\n",
    "    epochs = epocas,\n",
    "    validation_data = validacion_generador,\n",
    "    validation_steps = validation_steps\n",
    ")"
   ]
  },
  {
   "cell_type": "markdown",
   "metadata": {},
   "source": [
    "## Guardar modelo"
   ]
  },
  {
   "cell_type": "code",
   "execution_count": null,
   "metadata": {},
   "outputs": [],
   "source": [
    "target_dir = \"./modelo/\"\n",
    "if not os.path.exists(target_dir):\n",
    "    os.mkdir(target_dir)\n",
    "\n",
    "cnn.save(\"./modelo/modelo.h5\")\n",
    "cnn.save_weights(\"./modelo/peso.h5\")"
   ]
  }
 ],
 "metadata": {
  "language_info": {
   "name": "python",
   "codemirror_mode": {
    "name": "ipython",
    "version": 3
   },
   "version": "3.7.6-final"
  },
  "orig_nbformat": 2,
  "file_extension": ".py",
  "mimetype": "text/x-python",
  "name": "python",
  "npconvert_exporter": "python",
  "pygments_lexer": "ipython3",
  "version": 3,
  "kernelspec": {
   "name": "gputest",
   "display_name": "gputest"
  }
 },
 "nbformat": 4,
 "nbformat_minor": 2
}