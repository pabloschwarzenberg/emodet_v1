{
 "cells": [
  {
   "cell_type": "markdown",
   "source": [
    "### Importacion de librerias"
   ],
   "metadata": {
    "collapsed": false
   }
  },
  {
   "cell_type": "code",
   "execution_count": 31,
   "outputs": [],
   "source": [
    "import os # Sistema operativo\n",
    "from PIL import Image # Carpeta de imagenes\n",
    "import numpy as np # Matrix con las imagenes\n",
    "import cv2 # OpenCV\n",
    "import pickle # Guardar modelo"
   ],
   "metadata": {
    "collapsed": false,
    "pycharm": {
     "name": "#%%\n",
     "is_executing": false
    }
   }
  },
  {
   "cell_type": "markdown",
   "source": [
    "### Importar haarcascade y carpetas"
   ],
   "metadata": {
    "collapsed": false
   }
  },
  {
   "cell_type": "code",
   "execution_count": 32,
   "outputs": [],
   "source": [
    "# Se llamar archivo cascada para caras frontales sirve en caso de frente a pantalla\n",
    "#FrontFace = cv2.CascadeClassifier('HaarCascade/haarcascade_frontalface_alt2.xml')\n",
    "FrontFace = cv2.CascadeClassifier('HaarCascade/haarcascade_frontalface_default.xml')\n",
    "reconocer_cara = cv2.face.LBPHFaceRecognizer_create() # LBPH -> patrones para reconocer caras\n",
    "\n",
    "# Recolectar imagenes\n",
    "path_image = os.path.join(\"caras\") #contiene las imagenes de las distintas carpetas"
   ],
   "metadata": {
    "collapsed": false,
    "pycharm": {
     "name": "#%%\n",
     "is_executing": false
    }
   }
  },
  {
   "cell_type": "markdown",
   "source": [
    "### Creacion de variable"
   ],
   "metadata": {
    "collapsed": false
   }
  },
  {
   "cell_type": "code",
   "execution_count": 33,
   "outputs": [],
   "source": [
    "entrenamiento = [] # Contiene las imagenes\n",
    "etiqueta = [] # Es el nombre de las carpetas que contiene imagenes.\n",
    "id_actual = 0 # Mantiene el id de la carpeta actual\n",
    "id_etiqueta = {} # Contendra nombre de las etiquetas"
   ],
   "metadata": {
    "collapsed": false,
    "pycharm": {
     "name": "#%%\n",
     "is_executing": false
    }
   }
  },
  {
   "cell_type": "markdown",
   "source": [
    "### Se recorre carpeta para poder hacer respectivos trabajos sobre ello para posteriormente hacer trabajos"
   ],
   "metadata": {
    "collapsed": false
   }
  },
  {
   "cell_type": "code",
   "execution_count": 34,
   "outputs": [],
   "source": [
    "for root, directorio, archivos in os.walk(path_image):\n",
    "    for archivo in archivos:\n",
    "        if archivo.endswith(\"jpg\") or archivo.endswith(\"png\"): # Tipo de archivo soportados\n",
    "            path = os.path.join(root, archivo) # Direccion archivo en carpeta\n",
    "            obtener_etiqueta = os.path.basename(os.path.dirname(path)).lower() # Nombre de las carpetas, sirve para las etiquetas\n",
    "            #print (path, obtener_etiqueta)\n",
    "\n",
    "            if not obtener_etiqueta in id_etiqueta: # si no esta etiqueta en id_etiqueta\n",
    "                id_etiqueta[obtener_etiqueta] = id_actual # se agrega la etiqueta al grupo de esta\n",
    "                id_actual += 1\n",
    "            id_momento = id_etiqueta[obtener_etiqueta] # se etiqueta segun si pertenece o no\n",
    "            #print(id_etiqueta)\n",
    "\n",
    "            PIL_image = Image.open(path).convert(\"L\") # Se cargan imagenes y se pasan a escala de grises\n",
    "            Array_image = np.array(PIL_image, \"uint8\") # Imagenes pasan a array y quedan en entero de 0 a 255\n",
    "\n",
    "            caras = FrontFace.detectMultiScale(Array_image, scaleFactor=1.5, minNeighbors=9) # Vecinos al rectacgulo en el que se esta\n",
    "\n",
    "            # x, y, ancho, alto -> 0, 0, x+n, y+n\n",
    "            for (x, y, w, h) in caras:\n",
    "                obtener_cara = Array_image[y:y+h, x:x+w] # Se obtiene un cuadro con el tamaño de la cara\n",
    "                entrenamiento.append(obtener_cara) # se agrega en entrenamiento la cara\n",
    "                etiqueta.append(id_momento) # se agrega la etiqueta a la que pertenece la cara"
   ],
   "metadata": {
    "collapsed": false,
    "pycharm": {
     "name": "#%%\n",
     "is_executing": false
    }
   }
  },
  {
   "cell_type": "markdown",
   "source": [
    "### Se crea archivo con etiquetas"
   ],
   "metadata": {
    "collapsed": false
   }
  },
  {
   "cell_type": "code",
   "execution_count": 35,
   "outputs": [],
   "source": [
    "with open(\"labels.pickle\", \"wb\") as f:\n",
    "    pickle.dump(id_etiqueta, f) # se guarda con jerarquia el modelo de etiqueta"
   ],
   "metadata": {
    "collapsed": false,
    "pycharm": {
     "name": "#%%\n",
     "is_executing": false
    }
   }
  },
  {
   "cell_type": "markdown",
   "source": [
    "### Se crea entrena y se guarda modelo"
   ],
   "metadata": {
    "collapsed": false
   }
  },
  {
   "cell_type": "code",
   "execution_count": 36,
   "outputs": [],
   "source": [
    "reconocer_cara.train(entrenamiento, np.array(etiqueta)) # se entrena modelo imagen vs etiqueta\n",
    "reconocer_cara.save(\"entrenamiento.yml\") # se guarda modelo entrenado."
   ],
   "metadata": {
    "collapsed": false,
    "pycharm": {
     "name": "#%%\n",
     "is_executing": false
    }
   }
  }
 ],
 "metadata": {
  "kernelspec": {
   "name": "pycharm-f273ead0",
   "language": "python",
   "display_name": "PyCharm (Python + OpenCV)"
  },
  "language_info": {
   "codemirror_mode": {
    "name": "ipython",
    "version": 2
   },
   "file_extension": ".py",
   "mimetype": "text/x-python",
   "name": "python",
   "nbconvert_exporter": "python",
   "pygments_lexer": "ipython2",
   "version": "2.7.6"
  },
  "pycharm": {
   "stem_cell": {
    "cell_type": "raw",
    "source": [],
    "metadata": {
     "collapsed": false
    }
   }
  }
 },
 "nbformat": 4,
 "nbformat_minor": 0
}